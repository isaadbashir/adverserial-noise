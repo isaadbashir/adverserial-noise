{
 "cells": [
  {
   "cell_type": "code",
   "execution_count": null,
   "id": "099331f2",
   "metadata": {},
   "outputs": [],
   "source": [
    "import sys\n",
    "import os\n",
    "\n",
    "sys.path.insert(0, os.path.abspath(\"..\"))\n",
    "\n",
    "import torch\n",
    "import torchvision.models as models\n",
    "import numpy as np\n",
    "\n",
    "import adverserial_noise.utils.utils as utils\n",
    "from adverserial_noise.attacks.attack import (\n",
    "    AdversarialAttack,\n",
    "    AttackTypes,\n",
    "    BackendTypes,\n",
    ")"
   ]
  },
  {
   "cell_type": "code",
   "execution_count": null,
   "id": "625741e3",
   "metadata": {},
   "outputs": [],
   "source": [
    "device = torch.device(\"cuda\" if torch.cuda.is_available() else \"cpu\")\n",
    "\n",
    "model = models.resnet18(weights=models.ResNet18_Weights.IMAGENET1K_V1)\n",
    "model.eval()\n",
    "model.to(device)\n",
    "\n",
    "model.eval()\n",
    "for p in model.parameters():\n",
    "    p.requires_grad = False\n",
    "\n",
    "img_path = \"panda.jpg\"\n",
    "img = utils.read_image(img_path)"
   ]
  },
  {
   "cell_type": "code",
   "execution_count": null,
   "id": "fc6fccb1",
   "metadata": {},
   "outputs": [],
   "source": [
    "img_tensor = utils.image_to_tensor(\n",
    "    img, size=(224, 224), backend=BackendTypes.PYTORCH\n",
    ").to(device)\n",
    "\n",
    "target_class_index = torch.tensor([368], device=device)"
   ]
  },
  {
   "cell_type": "code",
   "execution_count": null,
   "id": "d99a876b",
   "metadata": {},
   "outputs": [],
   "source": [
    "adversarial_attack = AdversarialAttack()\n",
    "\n",
    "adv_tensor, noise_tensor = adversarial_attack.run_attack(\n",
    "    model=model,\n",
    "    inputs=img_tensor,\n",
    "    targets=target_class_index,\n",
    "    attack_type=AttackTypes.FGSM,\n",
    "    loss_fn=torch.nn.CrossEntropyLoss(reduction=\"sum\"),\n",
    ")"
   ]
  },
  {
   "cell_type": "code",
   "execution_count": null,
   "id": "238643d8",
   "metadata": {},
   "outputs": [],
   "source": [
    "probs_orig = utils.get_pred_probs(model, img_tensor, backend=BackendTypes.PYTORCH)\n",
    "probs_adv = utils.get_pred_probs(model, adv_tensor, backend=BackendTypes.PYTORCH)\n",
    "\n",
    "pred_class_orig = np.argmax(probs_orig)\n",
    "pred_class_adv = np.argmax(probs_adv)\n",
    "\n",
    "class_names = utils.load_imagenet_classes()"
   ]
  },
  {
   "cell_type": "code",
   "execution_count": null,
   "id": "0623a23f",
   "metadata": {},
   "outputs": [],
   "source": [
    "print(\"predicted original class: \", class_names[pred_class_orig])\n",
    "print(\"predicted adversarial class: \", class_names[pred_class_adv])"
   ]
  },
  {
   "cell_type": "code",
   "execution_count": null,
   "id": "33d29fb6",
   "metadata": {},
   "outputs": [],
   "source": [
    "utils.visualize_attack(\n",
    "    original=img_tensor,\n",
    "    adversarial=adv_tensor,\n",
    "    noise=noise_tensor,\n",
    "    probs=probs_adv,\n",
    "    predicted_class=class_names[pred_class_adv],\n",
    "    true_class=class_names[pred_class_orig],\n",
    "    class_names=class_names,\n",
    "    backend=BackendTypes.PYTORCH,\n",
    ")"
   ]
  },
  {
   "cell_type": "code",
   "execution_count": null,
   "id": "7d637919",
   "metadata": {},
   "outputs": [],
   "source": [
    "target_class_index = torch.tensor([0], device=device)\n",
    "\n",
    "adv_tensor, noise_tensor = adversarial_attack.run_attack(\n",
    "    model=model,\n",
    "    inputs=img_tensor,\n",
    "    targets=target_class_index,\n",
    "    attack_type=AttackTypes.FGSM,\n",
    "    loss_fn=torch.nn.CrossEntropyLoss(reduction=\"sum\"),\n",
    ")\n",
    "\n",
    "probs_orig = utils.get_pred_probs(model, img_tensor, backend=BackendTypes.PYTORCH)\n",
    "probs_adv = utils.get_pred_probs(model, adv_tensor, backend=BackendTypes.PYTORCH)\n",
    "\n",
    "pred_class_orig = np.argmax(probs_orig)\n",
    "pred_class_adv = np.argmax(probs_adv)\n",
    "\n",
    "class_names = utils.load_imagenet_classes()\n",
    "\n",
    "print(\"predicted original class: \", class_names[pred_class_orig])\n",
    "print(\"predicted adversarial class: \", class_names[pred_class_adv])"
   ]
  },
  {
   "cell_type": "code",
   "execution_count": null,
   "id": "1ae2d4c7",
   "metadata": {},
   "outputs": [],
   "source": [
    "utils.visualize_attack(\n",
    "    original=img_tensor,\n",
    "    adversarial=adv_tensor,\n",
    "    noise=noise_tensor,\n",
    "    probs=probs_adv,\n",
    "    predicted_class=class_names[pred_class_adv],\n",
    "    true_class=class_names[pred_class_orig],\n",
    "    class_names=class_names,\n",
    "    backend=BackendTypes.PYTORCH,\n",
    ")"
   ]
  },
  {
   "cell_type": "code",
   "execution_count": null,
   "id": "ab8d7c37",
   "metadata": {},
   "outputs": [],
   "source": [
    "img_tensor = utils.image_to_tensor(\n",
    "    img, size=(224, 224), backend=BackendTypes.PYTORCH\n",
    ").to(device)\n",
    "target_class_index = torch.tensor([1], device=device)\n",
    "\n",
    "adv_tensor, noise_tensor = adversarial_attack.run_attack(\n",
    "    model=model,\n",
    "    inputs=img_tensor,\n",
    "    targets=target_class_index,\n",
    "    attack_type=AttackTypes.PGD,\n",
    "    loss_fn=torch.nn.CrossEntropyLoss(reduction=\"sum\"),\n",
    "    step_size=0.01,\n",
    "    num_iterations=10,\n",
    "    random_start=True,\n",
    ")\n",
    "\n",
    "probs_orig = utils.get_pred_probs(model, img_tensor, backend=BackendTypes.PYTORCH)\n",
    "probs_adv = utils.get_pred_probs(model, adv_tensor, backend=BackendTypes.PYTORCH)\n",
    "\n",
    "pred_class_orig = np.argmax(probs_orig)\n",
    "pred_class_adv = np.argmax(probs_adv)\n",
    "\n",
    "class_names = utils.load_imagenet_classes()\n",
    "\n",
    "print(\"predicted original class: \", class_names[pred_class_orig])\n",
    "print(\"predicted adversarial class: \", class_names[pred_class_adv])"
   ]
  },
  {
   "cell_type": "code",
   "execution_count": null,
   "id": "97b92783",
   "metadata": {},
   "outputs": [],
   "source": [
    "utils.visualize_attack(\n",
    "    original=img_tensor,\n",
    "    adversarial=adv_tensor,\n",
    "    noise=noise_tensor,\n",
    "    probs=probs_adv,\n",
    "    predicted_class=class_names[pred_class_adv],\n",
    "    true_class=class_names[pred_class_orig],\n",
    "    class_names=class_names,\n",
    "    backend=BackendTypes.PYTORCH,\n",
    ")"
   ]
  },
  {
   "cell_type": "code",
   "execution_count": null,
   "id": "d4707090",
   "metadata": {},
   "outputs": [],
   "source": []
  }
 ],
 "metadata": {
  "kernelspec": {
   "display_name": "Python 3",
   "language": "python",
   "name": "python3"
  },
  "language_info": {
   "codemirror_mode": {
    "name": "ipython",
    "version": 3
   },
   "file_extension": ".py",
   "mimetype": "text/x-python",
   "name": "python",
   "nbconvert_exporter": "python",
   "pygments_lexer": "ipython3",
   "version": "3.11.4"
  }
 },
 "nbformat": 4,
 "nbformat_minor": 5
}
